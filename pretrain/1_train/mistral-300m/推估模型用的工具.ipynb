{
 "cells": [
  {
   "cell_type": "code",
   "execution_count": null,
   "id": "781df203-76b3-4210-9493-fc12ff612c96",
   "metadata": {},
   "outputs": [],
   "source": [
    "推估模型用的工具"
   ]
  },
  {
   "cell_type": "markdown",
   "id": "22568d85-b38e-4478-b784-3c2a4462a3cc",
   "metadata": {},
   "source": [
    "推長使用的模型 config.json"
   ]
  },
  {
   "cell_type": "code",
   "execution_count": 2,
   "id": "e8da806d-fbe2-4837-b6a1-8a075796431e",
   "metadata": {
    "tags": []
   },
   "outputs": [],
   "source": [
    "# {\n",
    "#     \"architectures\": [\n",
    "#       \"MistralForCausalLM\"\n",
    "#     ],\n",
    "#     \"bos_token_id\": 0,\n",
    "#     \"eos_token_id\": 0,\n",
    "#     \"hidden_act\": \"silu\",\n",
    "#     \"hidden_size\": 1024,\n",
    "#     \"initializer_range\": 0.02,\n",
    "#     \"intermediate_size\": 2400,\n",
    "#     \"max_position_embeddings\": 4096,\n",
    "#     \"model_type\": \"mistral\",\n",
    "#     \"num_attention_heads\": 16,\n",
    "#     \"num_hidden_layers\": 24,\n",
    "#     \"num_key_value_heads\": 8,\n",
    "#     \"rms_norm_eps\": 1e-05,\n",
    "#     \"rope_theta\": 10000.0,\n",
    "#     \"sliding_window\": 1024,\n",
    "#     \"tie_word_embeddings\": false,\n",
    "#     \"torch_dtype\": \"float16\",\n",
    "#     \"transformers_version\": \"4.35.2\",\n",
    "#     \"use_cache\": true,\n",
    "#     \"vocab_size\": 50257\n",
    "# }"
   ]
  },
  {
   "cell_type": "code",
   "execution_count": null,
   "id": "4fd2b8db-049d-46a5-92c6-6e0f576b582e",
   "metadata": {},
   "outputs": [],
   "source": [
    "# 配置參數\n",
    "vocab_size = 50257\n",
    "hidden_size = 1024\n",
    "max_position_embeddings = 4096\n",
    "num_attention_heads = 16\n",
    "num_hidden_layers = 24\n",
    "intermediate_size = 2400\n",
    "tie_word_embeddings = False\n",
    "\n",
    "# 嵌入層參數\n",
    "embeddings_params = (vocab_size + max_position_embeddings) * hidden_size\n",
    "\n",
    "# 自注意力層參數 (每一層)\n",
    "self_attention_params_per_layer = 3 * (hidden_size * hidden_size) + (hidden_size * hidden_size)\n",
    "\n",
    "# 前饋網絡層參數 (每一層)\n",
    "ffn_params_per_layer = (hidden_size * intermediate_size) + (intermediate_size * hidden_size)\n",
    "\n",
    "# Transformer層總參數\n",
    "transformer_layers_params = (self_attention_params_per_layer + ffn_params_per_layer) * num_hidden_layers\n",
    "\n",
    "# 輸出層參數\n",
    "output_layer_params = 0  # 如果tie_word_embeddings是false，則需要計算輸出層參數\n",
    "if not tie_word_embeddings:\n",
    "    output_layer_params = hidden_size * vocab_size\n",
    "\n",
    "# 總參數\n",
    "total_params = embeddings_params + transformer_layers_params + output_layer_params\n",
    "\n",
    "total_params"
   ]
  },
  {
   "cell_type": "code",
   "execution_count": null,
   "id": "40155180-2aee-47ea-93cc-62381b883765",
   "metadata": {},
   "outputs": [],
   "source": [
    "#大約 3.26 億（325,748,736）參數"
   ]
  }
 ],
 "metadata": {
  "kernelspec": {
   "display_name": "Python 3 (ipykernel)",
   "language": "python",
   "name": "python3"
  },
  "language_info": {
   "codemirror_mode": {
    "name": "ipython",
    "version": 3
   },
   "file_extension": ".py",
   "mimetype": "text/x-python",
   "name": "python",
   "nbconvert_exporter": "python",
   "pygments_lexer": "ipython3",
   "version": "3.8.10"
  }
 },
 "nbformat": 4,
 "nbformat_minor": 5
}
